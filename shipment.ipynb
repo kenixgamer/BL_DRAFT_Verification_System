{
 "cells": [
  {
   "cell_type": "markdown",
   "metadata": {},
   "source": [
    "## Librarires"
   ]
  },
  {
   "cell_type": "code",
   "execution_count": 67,
   "metadata": {},
   "outputs": [],
   "source": [
    "from langchain_community.vectorstores import FAISS\n",
    "from langchain_community.document_loaders import PyPDFLoader\n",
    "from langchain_community.embeddings import OllamaEmbeddings\n",
    "from langchain_community.document_loaders import PyPDFLoader\n",
    "from langchain.text_splitter import RecursiveCharacterTextSplitter\n",
    "from langchain_community.llms import Ollama\n",
    "from langchain.chains import ConversationChain\n",
    "from langchain.chains.conversation.memory import ConversationBufferWindowMemory\n",
    "from langchain.prompts import PromptTemplate\n",
    "from langchain_community.vectorstores import FAISS\n",
    "from langchain.text_splitter import RecursiveCharacterTextSplitter\n",
    "from langchain.chains.combine_documents import create_stuff_documents_chain\n",
    "from langchain_core.prompts import ChatPromptTemplate\n",
    "from langchain.chains import create_retrieval_chain\n",
    "from langchain_google_genai import GoogleGenerativeAIEmbeddings\n",
    "from langchain_community.document_loaders import WebBaseLoader\n",
    "from langchain.chains.combine_documents import create_stuff_documents_chain\n",
    "from langchain_core.prompts import ChatPromptTemplate, MessagesPlaceholder\n",
    "import pandas as pd\n"
   ]
  },
  {
   "cell_type": "markdown",
   "metadata": {},
   "source": [
    "db logic"
   ]
  },
  {
   "cell_type": "code",
   "execution_count": 68,
   "metadata": {},
   "outputs": [
    {
     "name": "stderr",
     "output_type": "stream",
     "text": [
      "c:\\Users\\DELL\\miniconda3\\envs\\shipment\\lib\\site-packages\\huggingface_hub\\file_download.py:1132: FutureWarning: `resume_download` is deprecated and will be removed in version 1.0.0. Downloads always resume when possible. If you want to force a new download, use `force_download=True`.\n",
      "  warnings.warn(\n"
     ]
    },
    {
     "name": "stdout",
     "output_type": "stream",
     "text": [
      "[[Document(page_content='DRAFT BILL OF LADING NOT NEGOTIABLE UNLESS CONSIGNED \"TO ORDER\"\\nUnifeeder FZCO\\nPUNJAB RICELAND AGRO FOODS PRIVATE LIMITED.\\nPLOT NO. 324,NEW GIDC, MITHIROHAR  NEAR  MET INDIA \\nGANDHIDHAM,GUJARAT  PIN-370201MUN/JEA/24/14740\\nShipper\\'s Ref. F/Agent Name & Ref.Shipper Country of OriginBill of Lading No.\\nRUSHABH SEALINK AND \\nLOGISTIC PRIVATE LIMITEDINDIA\\nConsignee (if \"To Order\" so indicate)\\nAL JANAN GENERAL TRADING CO. LLC\\nAI KHAN ROAD, INDUSTRIAL AREA 1 SHARJAH, UAE - PO BOX NO. 38854 \\nT: +97165331498 E: ALJANAN.SHPI@YAHOO.CO.UKNotify2\\nNotify1(No claim shall attach for the failure to notify) Agent\\nTHE BUSINESS CENTRE BUILDING, 6TH FLOOR, UNIT 604, \\nKHALID BIN WALEED STREET, BUR DUBAI, DUBAI, U.A.E.\\nTEL : 04 3530258 FAX : 04 3530248 TOLL FREE : 8000321344 \\n EMAIL ID MYLENE.AMABA@UNIFEEDER.COM, \\nTHUSITHA.PRIYANKARA@UNIFEEDER.COM, DEEPAK.S@UNIFEEDER.COM., \\nIMP.TSL@UNIFEEDER.COM\\nPhone:04 3530258 AI KHAN ROAD, INDUSTRIAL AREA 1 SHARJAH, UAE - PO BOX NO. 38854 T: \\n+97165331498 E: ALJANAN.SHPI@YAHOO.CO.UKTRANSWORLD SHIPPING & LOGISTICS LLCAL JANAN GENERAL TRADING CO. LLC\\nFull address of Place of Receipt Port of Loading\\nPort of Discharge Final Destination Vessel / VoyageMUNDRA MUNDRA\\nJEBEL ALI SC MARA/24015WNo.of original bills of Lading\\nFCL/FCL JEBEL ALI(If applicable)Transhipment Vessel Port of Transhipment\\n 3 (THREE)\\nCAIU3609409/UFL241943\\n25142.000\\n658 BAGS\"RAHMANI\" BRAND SAID TO CONTAIN\\nNumber and kind of packages; and description of goods.Container No. \\nSeal No.Marks & Numbers Gross\\nWeight\\n 20.0000 CBM:Gross WT in KGs\\nNet WT in KGs 25142.000 \\n 25004.000 Measurement\\n 658 Total No of Pkgs:\"Balance as per the rider sheet\"1 X 20\\' DRY  CONTAINER S.T.C\\nTOTAL : 658 BAGS\\n658 BAGS OF INDIAN BASMATI RICE PACKED IN 38 KG NETT \\nNON WOVEN\\nBAGS WITH PP INNER.\\nNET WEIGHT (PER BAG) 38.000 KG\\nGROSS WEIGHT (PER BAG) : 38.210 KG\\n 14 Days free on liner detention at Port of Discharge , \\nGround rent on consignee account.\\nThe Merchant’s attention is drawn to the fact that refrigerated containers are not designed to freeze down cargo which has not been \\npresented for stuffing at or below its designated carrying temperature and the Carrier shall not be responsible for the consequences of \\ncargo presented at a higher temperature than that required for the transportation.  \\nSHIPPERS/LOAD/STOW COUNT & CUSTOM SEALED.\\nCARRIER NOT RESPONSIBLE FOR LOSS DAMAGE OF CARGO. DEMURRAGE, DETENTION CHARGES AT PORT OF \\nDESTINATION PAYABLE BY CONSIGNEE AS PER LINE\\'S TARIFF.  \\nSAID TO WEIGH / MEASURE  \\nANY CLAIM UNDER THIS BILL OF LADING SHALL BE SUBJECT TO ENGLISH \\nLAW AND DECISIONS OF ENGLISH COURTS SHALL ONLY APPLY CLAIMS \\nFILED OTHER THAN ENGLISH COURTS SHALL NOT BE ENTERTAINEDJURISDICTION AND LAW CLAUSEFreight: PREPAIDExcess Value Decleration : Refer clause 6 (3) (B) \\n+ (C)  on reverse side\\nRECEIVED by the Carrier the Goods as specified above in apparent good order and condition, \\nunless\\n otherwise stated, to be transported to such place as agreed, authorised or permitted herein \\nand subject to all the terms and conditions appearing on the front and reverse of this bill of lading \\nto which the Merchant agrees by accepting this Bill of Lading, any local privileges and customs \\nnotwithstanding. The particulars given above are as stated by the shipper and the weight, \\nmeasure, quantity, condition, contents and value of the goods are unknown to the carrier. In \\nwitness whereof one (1) original Bill of Lading has been signed if not otherwise stated above, the \\nsame being accomplished the other(s), if any to be void, If required by the carrier one (1) original \\nbill of lading must be surrendered duly endorsed in exchange for the goods or delivery order.\\n8-Apr-24Place and date of issue MUNDRA\\nSigned on behalf of the carrier : Unifeeder FZCO  \\nFOR :  Unifeeder Agencies India Private Limited - KANDLA\\nAs Agents for  Unifeeder FZCO', metadata={'source': 'AVANA DRAFT-Draft.pdf', 'page': 0}), Document(page_content=': BL NumberVessel Name Voyage\\nMUN/JEA/24/14740 SC MARA 24015WNOT NEGOTIABLE UNLESS CONSIGNED \"TO ORDER\"\\nBL ATTACHMENT\\nNumber and kind of packages,\\nDescription of goods.Marks and NumberContainer No. \\nSeal No.\\nNET WEIGHT (TOTAL) : 25.004 MT\\nGROSS WEIGHT (TOTAL) : 25.142 MT\\nPACKING DATE : 03/2024   EXPIRY DATE : 02/2026\\nPACKING MARK: \"RAHMANI\"\\nIEC CODE : 0315903040\\nHS CODE:10063020\\nBUYER\\'S ORDER & DATE \\nHVGTF/2024-25/1081    DATED: 09-03-2024\\nINVOICE NO. PRL/GDM/EXP/484 DATE: 09.04.2024\\nS/BILL NO:  DATE: 09.04.2024\\nNOTIFY PARTY 2 : \\nHARMONY VENTURES GENERAL TRADING FZCO\\nADDRESS: FZJOAB0909 JEBEL ALI FREEZONE\\nUNITED ARAB EMIRATES.\\nHARMONYVGT@GMAIL.COM\\nCONTACT NUMBER : 0523848350', metadata={'source': 'AVANA DRAFT-Draft.pdf', 'page': 1})], [Document(page_content='Exporter:\\nPUNJAB RICELAND AGRO FOODS PRIVATE LIMITED\\nPLOT NO. 324,NEW GIDC, MITHIROHAR \\nNEAR  MET INDIA\\nGANDHIDHAM,GUJARAT \\nPIN-370201\\nCONSIGNEE :-\\nAL JANAN GENERAL TRADING CO. LLC\\nAI KHAN ROAD, INDUSTRIAL AREA 1\\nSHARJAH, UAE - PO BOX NO. 38854\\nT: +97165331498\\nE: ALJANAN.SHPI@YAHOO.CO.UK\\nNOTIFY 1 : \\nAL JANAN GENERAL TRADING CO. LLC\\nAI KHAN ROAD, INDUSTRIAL AREA 1\\nSHARJAH, UAE - PO BOX NO. 38854\\nT: +97165331498\\nE: ALJANAN.SHPI@YAHOO.CO.UK\\nNOTIFY 2 : \\nHARMONY VENTURES GENERAL TRADING FZCO\\nADDRESS: FZJOAB0909 JEBEL ALI FREEZONE\\nUNITED ARAB EMIRATES.\\nHARMONYVGT@GMAIL.COM\\nCONTACT NUMBER : 0523848350\\nVsl/Voy.\\nPort of Loading: Port of Discharge: Place of Delivery:\\nMUNDRA, INDIA JEBEL ALI, U.A.E. JEBEL ALI, U.A.E.\\nMarks & Numbers Number and Kind of Packages Weight Measurement\\nDescription of Goods\\n01X20\\'FCL TOTAL : 658 BAGS GROSS WT\\n658 Bags of Indian Basmati Rice Packed In 38 Kg Nett Non Woven 25.142\\nBags With PP Inner. METRIC TON\\nNet weight (per bag) 38.000 KG\\nGross weight (per bag) : 38.210 KG NET WT\\nNet weight (Total) : 25.004 MT 25.004\\nGross weight (Total) : 25.142 MT METRIC TON\\nPACKING DATE : 03/2024   EXPIRY DATE : 02/2026\\nPACKING MARK: \"RAHMANI\"\\nIEC CODE : 0315903040\\nHS CODE:10063020\\nBuyer\\'s Order & Date \\nHVGTF/2024-25/1081    Dated: 09-03-2024\\n14 DAYS FREE TIME DETENTION AT POD \\nINVOICE NO. PRL/GDM/EXP/484 DATE: 09.04.2024\\nS/BILL No:  DATE: 09.04.2024\\nTotal No.of Containers Packages: Movement:\\n1 FCL\\nNumber of Originals Remarks:\\nTHREE\\nSR NO CONTAINER SEAL NO SIZE BAGS GROSS WT IN KGS NET WT IN KGS\\n1CAIU3609409 UFL241943 20 65825142.000 25004.000\\n658 25142.000 25004.000 TOTAL658 BAGSDRAFT - B/L\\nBRAND\"RAHMANI\"', metadata={'source': 'AVANA DRAFT-Reference.pdf', 'page': 0})]]\n"
     ]
    }
   ],
   "source": [
    "# embeddings = OllamaEmbeddings(model=\"mistral\")\n",
    "\n",
    "from langchain_huggingface import HuggingFaceEmbeddings\n",
    "\n",
    "model_name = \"sentence-transformers/all-mpnet-base-v2\"\n",
    "model_kwargs = {'device': 'cpu'}\n",
    "encode_kwargs = {'normalize_embeddings': False}\n",
    "embeddings = HuggingFaceEmbeddings(\n",
    "    model_name=model_name,\n",
    "    model_kwargs=model_kwargs,\n",
    "    encode_kwargs=encode_kwargs\n",
    ")\n",
    "# PDF file paths\n",
    "# pdf_filepaths = [\n",
    "#     \"AVANA DRAFT-Draft.pdf\",\n",
    "#     \"AVANA DRAFT-Reference.pdf\"\n",
    "# ]\n",
    "\n",
    "# Load and process each PDF separately\n",
    "# databases = []\n",
    "# for filepath in pdf_filepaths:\n",
    "#     # Load PDF and split into pages\n",
    "#     loader = PyPDFLoader(filepath)  # Adjusted initialization without the keyword\n",
    "#     pages = loader.load_and_split()\n",
    "    \n",
    "#     # Split pages into manageable chunks\n",
    "#     text_splitter = RecursiveCharacterTextSplitter(chunk_size=1000, chunk_overlap=200)\n",
    "#     document_splits = text_splitter.split_documents(documents=pages)\n",
    "    \n",
    "#     # Initialize and fill the database for each PDF\n",
    "#     db = FAISS.from_documents(document_splits, embeddings)\n",
    "#     databases.append(db)\n",
    "\n",
    "# # Now you have a list of databases, each containing the vectorized content of one PDF\n",
    "# print(databases)\n",
    "\n",
    "\n",
    "\n",
    "\n",
    "\n",
    "\n",
    "\n",
    "\n",
    "\n",
    "\n",
    "\n",
    "\n",
    "pdf_filepaths = [\n",
    "    \"AVANA DRAFT-Draft.pdf\",\n",
    "    \"AVANA DRAFT-Reference.pdf\"\n",
    "    # Add more file paths as needed\n",
    "]\n",
    "loaders = [PyPDFLoader(filepath) for filepath in pdf_filepaths]\n",
    "# # Load and split the PDFs into pages\n",
    "pages = [loader.load_and_split() for loader in loaders]\n",
    "print(pages)\n",
    "# Flatten the list of lists into a single list of pages\n",
    "flat_pages = [page for sublist in pages for page in sublist]\n",
    "\n",
    "# Define the text splitter for manageable chunks\n",
    "text_splitter = RecursiveCharacterTextSplitter(chunk_size=1000, chunk_overlap=200)\n",
    "all_splits = text_splitter.split_documents(documents=flat_pages)\n",
    "\n",
    "# Initialize the Chroma vector store and create it using the document splits\n",
    "db = FAISS.from_documents(all_splits, embeddings)\n"
   ]
  },
  {
   "cell_type": "code",
   "execution_count": 66,
   "metadata": {},
   "outputs": [
    {
     "name": "stdout",
     "output_type": "stream",
     "text": [
      "{'input': 'compare both document side by side and give output in json formate ', 'context': [Document(page_content=': BL NumberVessel Name Voyage\\nMUN/JEA/24/14740 SC MARA 24015WNOT NEGOTIABLE UNLESS CONSIGNED \"TO ORDER\"\\nBL ATTACHMENT\\nNumber and kind of packages,\\nDescription of goods.Marks and NumberContainer No. \\nSeal No.\\nNET WEIGHT (TOTAL) : 25.004 MT\\nGROSS WEIGHT (TOTAL) : 25.142 MT\\nPACKING DATE : 03/2024   EXPIRY DATE : 02/2026\\nPACKING MARK: \"RAHMANI\"\\nIEC CODE : 0315903040\\nHS CODE:10063020\\nBUYER\\'S ORDER & DATE \\nHVGTF/2024-25/1081    DATED: 09-03-2024\\nINVOICE NO. PRL/GDM/EXP/484 DATE: 09.04.2024\\nS/BILL NO:  DATE: 09.04.2024\\nNOTIFY PARTY 2 : \\nHARMONY VENTURES GENERAL TRADING FZCO\\nADDRESS: FZJOAB0909 JEBEL ALI FREEZONE\\nUNITED ARAB EMIRATES.\\nHARMONYVGT@GMAIL.COM\\nCONTACT NUMBER : 0523848350', metadata={'source': 'AVANA DRAFT-Draft.pdf', 'page': 1}), Document(page_content='Description of Goods\\n01X20\\'FCL TOTAL : 658 BAGS GROSS WT\\n658 Bags of Indian Basmati Rice Packed In 38 Kg Nett Non Woven 25.142\\nBags With PP Inner. METRIC TON\\nNet weight (per bag) 38.000 KG\\nGross weight (per bag) : 38.210 KG NET WT\\nNet weight (Total) : 25.004 MT 25.004\\nGross weight (Total) : 25.142 MT METRIC TON\\nPACKING DATE : 03/2024   EXPIRY DATE : 02/2026\\nPACKING MARK: \"RAHMANI\"\\nIEC CODE : 0315903040\\nHS CODE:10063020\\nBuyer\\'s Order & Date \\nHVGTF/2024-25/1081    Dated: 09-03-2024\\n14 DAYS FREE TIME DETENTION AT POD \\nINVOICE NO. PRL/GDM/EXP/484 DATE: 09.04.2024\\nS/BILL No:  DATE: 09.04.2024\\nTotal No.of Containers Packages: Movement:\\n1 FCL\\nNumber of Originals Remarks:\\nTHREE\\nSR NO CONTAINER SEAL NO SIZE BAGS GROSS WT IN KGS NET WT IN KGS\\n1CAIU3609409 UFL241943 20 65825142.000 25004.000\\n658 25142.000 25004.000 TOTAL658 BAGSDRAFT - B/L\\nBRAND\"RAHMANI\"', metadata={'source': 'AVANA DRAFT-Reference.pdf', 'page': 0}), Document(page_content='THUSITHA.PRIYANKARA@UNIFEEDER.COM, DEEPAK.S@UNIFEEDER.COM., \\nIMP.TSL@UNIFEEDER.COM\\nPhone:04 3530258 AI KHAN ROAD, INDUSTRIAL AREA 1 SHARJAH, UAE - PO BOX NO. 38854 T: \\n+97165331498 E: ALJANAN.SHPI@YAHOO.CO.UKTRANSWORLD SHIPPING & LOGISTICS LLCAL JANAN GENERAL TRADING CO. LLC\\nFull address of Place of Receipt Port of Loading\\nPort of Discharge Final Destination Vessel / VoyageMUNDRA MUNDRA\\nJEBEL ALI SC MARA/24015WNo.of original bills of Lading\\nFCL/FCL JEBEL ALI(If applicable)Transhipment Vessel Port of Transhipment\\n 3 (THREE)\\nCAIU3609409/UFL241943\\n25142.000\\n658 BAGS\"RAHMANI\" BRAND SAID TO CONTAIN\\nNumber and kind of packages; and description of goods.Container No. \\nSeal No.Marks & Numbers Gross\\nWeight\\n 20.0000 CBM:Gross WT in KGs\\nNet WT in KGs 25142.000 \\n 25004.000 Measurement\\n 658 Total No of Pkgs:\"Balance as per the rider sheet\"1 X 20\\' DRY  CONTAINER S.T.C\\nTOTAL : 658 BAGS\\n658 BAGS OF INDIAN BASMATI RICE PACKED IN 38 KG NETT \\nNON WOVEN\\nBAGS WITH PP INNER.\\nNET WEIGHT (PER BAG) 38.000 KG', metadata={'source': 'AVANA DRAFT-Draft.pdf', 'page': 0}), Document(page_content='notwithstanding. The particulars given above are as stated by the shipper and the weight, \\nmeasure, quantity, condition, contents and value of the goods are unknown to the carrier. In \\nwitness whereof one (1) original Bill of Lading has been signed if not otherwise stated above, the \\nsame being accomplished the other(s), if any to be void, If required by the carrier one (1) original \\nbill of lading must be surrendered duly endorsed in exchange for the goods or delivery order.\\n8-Apr-24Place and date of issue MUNDRA\\nSigned on behalf of the carrier : Unifeeder FZCO  \\nFOR :  Unifeeder Agencies India Private Limited - KANDLA\\nAs Agents for  Unifeeder FZCO', metadata={'source': 'AVANA DRAFT-Draft.pdf', 'page': 0})], 'answer': ' Here is a comparison table between the two documents:\\n\\n| Feature                   | Document 1           | Document 2              |\\n|---------------------------|----------------------|-------------------------|\\n| BL Number                | MUN/JEA/24/14740     | FCL/FCL JEBEL ALI        |\\n| Vessel Name              | SC MARA              | Not Specified          |\\n| Voyage                   | 24015W               | Not Specified          |\\n| Number and kind of packages, Description of goods.Marks and Number Container No.  | 658 Bags Indian Basmati Rice | 1 X 20\\' DRY CONTAINER S.T.C |\\n| Seal No.                 | Not Specified        | Not Specified          |\\n| NET WEIGHT (TOTAL)       | 25.004 MT            | Total No of Pkgs: 658 BAGS |\\n| GROSS WEIGHT (TOTAL)     | 25.142 MT            | 658 Bags                |\\n| PACKING DATE             | 03/2024              | 03/2024                  |\\n| EXPIRY DATE              | 02/2026              | 02/2026                  |\\n| PACKING MARK             | \"RAHMANI\"            | \"RAHMANI\"                |\\n| IEC CODE                 | 0315903040           | 0315903040              |\\n| HS CODE                  | 10063020             | 10063020                |\\n| BUYER\\'S ORDER & DATE     | HVGTF/2024-25/1081    | HVGTF/2024-25/1081       |\\n| INVOICE NO.              | PRL/GDM/2236          | Not Specified          |\\n| FULL ADDRESS OF PLACE OF RECEIPT PORT OF LOADING | MUNDRA                | JEBEL ALI                |\\n| Port of Discharge Final Destination Vessel / Voyage | Not Specified        | Not Specified           |\\n| No.of original bills of Lading | 3                     | 1 (If applicable)      |\\n| Transhipment Vessel Port of Transhipment | Not Specified         | Not Specified          |'}\n",
      "       Feature Document 1 Document 2\n",
      "0    BL Number       None       None\n",
      "1  Vessel Name       None       None\n"
     ]
    }
   ],
   "source": [
    "# Based on the provided context, do side-by-side comparison in tabular formate like below pandas DataFrame Formate:\n",
    "\n",
    "from langchain_core.prompts import ChatPromptTemplate\n",
    "template = \"\"\"\n",
    "Please compare all the features from two documents and fill in the table:\n",
    "\n",
    "\n",
    "{context}\n",
    "\"\"\"\n",
    "prompt = ChatPromptTemplate.from_template(template)\n",
    "llm = Ollama(model=\"mistral\")\n",
    "\n",
    "\n",
    "\n",
    "document_chain = create_stuff_documents_chain(llm,prompt)\n",
    "retriever = db.as_retriever()\n",
    "retrieval_chain = create_retrieval_chain(retriever, document_chain)\n",
    "# Assuming 'invoke' needs to pass a dictionary with specific keys\n",
    "# response = retrieval_chain.invoke({\"context\": \"extract the necessary values for comparison from the documents\"})\n",
    "\n",
    "response = retrieval_chain.invoke({\"input\": \"compare both document side by side and give output in json formate \"})\n",
    "print(response)\n",
    "try:\n",
    "    comparison_data = [\n",
    "        {\"Feature\": \"BL Number\", \"Document 1\": response.get('BL Number', [None, None])[0], \"Document 2\": response.get('BL Number', [None, None])[1]},\n",
    "        {\"Feature\": \"Vessel Name\", \"Document 1\": response.get('Vessel Name', [None, None])[0], \"Document 2\": response.get('Vessel Name', [None, None])[1]}\n",
    "        # Add more features based on available data\n",
    "    ]\n",
    "\n",
    "    # Create the DataFrame\n",
    "    df = pd.DataFrame(comparison_data)\n",
    "    print(df)\n",
    "except KeyError as e:\n",
    "    print(\"KeyError encountered:\", e)\n",
    "    print(\"Check the keys in the response and adjust the code accordingly.\")"
   ]
  },
  {
   "cell_type": "code",
   "execution_count": null,
   "metadata": {},
   "outputs": [],
   "source": []
  }
 ],
 "metadata": {
  "kernelspec": {
   "display_name": "shipment",
   "language": "python",
   "name": "python3"
  },
  "language_info": {
   "codemirror_mode": {
    "name": "ipython",
    "version": 3
   },
   "file_extension": ".py",
   "mimetype": "text/x-python",
   "name": "python",
   "nbconvert_exporter": "python",
   "pygments_lexer": "ipython3",
   "version": "3.9.19"
  }
 },
 "nbformat": 4,
 "nbformat_minor": 2
}
